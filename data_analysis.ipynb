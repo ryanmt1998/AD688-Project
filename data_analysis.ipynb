{
  "cells": [
    {
      "cell_type": "raw",
      "metadata": {},
      "source": [
        "---\n",
        "title: \"Data Analysis\"\n",
        "subtitle: \"Comprehensive Data Cleaning & Exploratory Analysis of Job Market Trends\"\n",
        "author:\n",
        "  - name: Norah Jones\n",
        "    affiliations:\n",
        "      - id: bu\n",
        "        name: Boston University\n",
        "        city: Boston\n",
        "        state: MA\n",
        "  - name: John Hamm\n",
        "    affiliations:\n",
        "      - ref: bu\n",
        "bibliography: references.bib\n",
        "csl: csl/econometrica.csl\n",
        "format: \n",
        "  html:\n",
        "    toc: true\n",
        "    number-sections: true\n",
        "    df-print: paged\n",
        "---"
      ],
      "id": "9dc58e05"
    },
    {
      "cell_type": "markdown",
      "metadata": {},
      "source": [
        "## Dropping Unnecessary Columns\n",
        "\n",
        "\n",
        "The Unnecessary Columns:\n",
        "\n",
        "\n",
        "- ID\n",
        "- URL\n",
        "- ACTIVE_URLS\n",
        "- DUPLICATES\n",
        "- LAST_UPDATED_TIMESTAMP\n",
        "- NAICS2\n",
        "- NAICS3\n",
        "- NAICS4\n",
        "- NAICS5\n",
        "- NAICS6\n",
        "- SOC_2\n",
        "- SOC_3\n",
        "- SOC_5\n",
        "\n",
        "\n",
        "With the removal of older NAICS and SOC codes, our dataset now retains only the most current classification columns: NAICS_2022_6 for industry and SOC_2021_4 for occupation. This streamlines our analysis by focusing on up-to-date standards, reducing redundancy, and ensuring consistency in categorizing job postings.\n"
      ],
      "id": "b6752c92"
    },
    {
      "cell_type": "code",
      "metadata": {},
      "source": [
        "import pandas as pd\n",
        "\n",
        "df = pd.read_csv('lightcast_job_postings.csv', low_memory=False)\n",
        "\n",
        "columns_to_drop = [\n",
        "    \"ID\", \"URL\", \"ACTIVE_URLS\", \"DUPLICATES\", \"LAST_UPDATED_TIMESTAMP\",\n",
        "    \"NAICS2\", \"NAICS3\", \"NAICS4\", \"NAICS5\", \"NAICS6\",\n",
        "    \"SOC_2\", \"SOC_3\", \"SOC_5\"\n",
        "]\n",
        "df.drop(columns=columns_to_drop, inplace=True)"
      ],
      "id": "0a6966f4",
      "execution_count": null,
      "outputs": []
    },
    {
      "cell_type": "markdown",
      "metadata": {},
      "source": [
        "## Handling Missing Values\n"
      ],
      "id": "73d7c66d"
    },
    {
      "cell_type": "code",
      "metadata": {},
      "source": [
        "import missingno as msno\n",
        "import matplotlib.pyplot as plt\n",
        "\n",
        "# Visualize missing data\n",
        "msno.heatmap(df)\n",
        "plt.title(\"Missing Values Heatmap\")\n",
        "plt.show()\n",
        "\n",
        "# Fill missing values for SALARY before dropping columns with many missing values\n",
        "if \"SALARY\" in df.columns:\n",
        "    df[\"SALARY\"] = df[\"SALARY\"].fillna(df[\"SALARY\"].median())\n",
        "\n",
        "df = df.drop_duplicates(subset=[\"TITLE\", \"COMPANY\", \"LOCATION\", \"POSTED\"], keep=\"first\")"
      ],
      "id": "0ce96073",
      "execution_count": null,
      "outputs": []
    },
    {
      "cell_type": "markdown",
      "metadata": {},
      "source": [
        "## Remove Duplicates\n"
      ],
      "id": "b8501270"
    },
    {
      "cell_type": "code",
      "metadata": {},
      "source": [
        "df = df.drop_duplicates(subset=[\"TITLE\", \"COMPANY\", \"LOCATION\", \"POSTED\"], keep=\"first\")\n"
      ],
      "id": "fe12a319",
      "execution_count": null,
      "outputs": []
    },
    {
      "cell_type": "markdown",
      "metadata": {},
      "source": [
        "## Job Postings by Industry"
      ],
      "id": "6577df1e"
    },
    {
      "cell_type": "code",
      "metadata": {},
      "source": [
        "import plotly.express as px\n",
        "\n",
        "fig = px.bar(df[\"NAICS_2022_2_NAME\"].value_counts(), \n",
        "            title=\"Job Postings by Industry (NAICS 2-digit level)\",\n",
        "            labels={\"index\": \"Industry\", \"value\": \"Number of Job Postings\"})\n",
        "fig.show()"
      ],
      "id": "99748f70",
      "execution_count": null,
      "outputs": []
    },
    {
      "cell_type": "markdown",
      "metadata": {},
      "source": [
        "## Salary Distribution by Industry"
      ],
      "id": "d0919155"
    },
    {
      "cell_type": "code",
      "metadata": {},
      "source": [
        "import plotly.express as px\n",
        "fig = px.box(df, x=\"NAICS_2022_2_NAME\", y=\"SALARY\", title=\"Salary Distribution by Industry\")\n",
        "fig.show()\n"
      ],
      "id": "fac0e3c0",
      "execution_count": null,
      "outputs": []
    },
    {
      "cell_type": "markdown",
      "metadata": {},
      "source": [
        "## Remote vs. On-Site Jobs"
      ],
      "id": "a7619bb7"
    },
    {
      "cell_type": "code",
      "metadata": {},
      "source": [
        "import plotly.express as px\n",
        "fig = px.pie(df, names=\"REMOTE_TYPE_NAME\", title=\"Remote vs. On-Site Jobs\")\n",
        "fig.show()\n"
      ],
      "id": "afe693fb",
      "execution_count": null,
      "outputs": []
    }
  ],
  "metadata": {
    "kernelspec": {
      "name": "python3",
      "language": "python",
      "display_name": "Python 3 (ipykernel)"
    }
  },
  "nbformat": 4,
  "nbformat_minor": 5
}