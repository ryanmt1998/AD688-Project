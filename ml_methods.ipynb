{
  "cells": [
    {
      "cell_type": "markdown",
      "metadata": {},
      "source": [
        "## Cluster"
      ]
    },
    {
      "cell_type": "code",
      "metadata": {},
      "source": [
        "from pyspark.sql import SparkSession\n",
        "from pyspark.sql.functions import col, when, lower\n",
        "from pyspark.sql.types import DoubleType\n",
        "from pyspark.ml import Pipeline\n",
        "from pyspark.ml.feature import StringIndexer, VectorAssembler\n",
        "from pyspark.ml.clustering import KMeans\n",
        "from pyspark.ml.evaluation import ClusteringEvaluator\n",
        "import pandas as pd\n",
        "import hvplot.pandas\n",
        "import panel as pn\n",
        "pn.extension()\n",
        "from itables import show"
      ],
      "execution_count": null,
      "outputs": []
    },
    {
      "cell_type": "code",
      "metadata": {},
      "source": [
        "## Load the Lightcast Job Posting Data\n",
        "spark = SparkSession.builder \\\n",
        ".appName(\"AI_vs_NonAI_JobPostings\") \\\n",
        ".config(\"spark.driver.memory\", \"4g\") \\\n",
        ".getOrCreate()\n",
        "\n",
        "\n",
        "df = spark.read.option(\"header\", \"true\") \\\n",
        "    .option(\"inferSchema\", \"true\") \\\n",
        "    .option(\"multiLine\", \"true\") \\\n",
        "    .option(\"escape\", \"\\\"\") \\\n",
        "    .csv(\"./data/lightcast_job_postings.csv\")"
      ],
      "execution_count": null,
      "outputs": []
    },
    {
      "cell_type": "code",
      "metadata": {},
      "source": [
        "## Drop Columns\n",
        "columns_to_drop = {'ID', 'URL', 'ACTIVE_URLS', 'DUPLICATES', 'LAST_UPDATED_TIMESTAMP',\n",
        "'NAICS2', 'NAICS3', 'NAICS4', 'NAICS5', 'NAICS6',\n",
        "'SOC_2', 'SOC_3', 'SOC_5'\n",
        "}\n",
        "\n",
        "\n",
        "df_cleaned = df.drop(*columns_to_drop)"
      ],
      "execution_count": null,
      "outputs": []
    },
    {
      "cell_type": "code",
      "metadata": {},
      "source": [
        "## AI vs Non-AI Classification\n",
        "\n",
        "df_cleaned = df_cleaned.withColumn(\n",
        "\"AI_OR_NON_AI_ROLES\",\n",
        "when(\n",
        "    (lower(col(\"TITLE_NAME\")).contains(\"artificial intelligence\")) |\n",
        "    (lower(col(\"TITLE_NAME\")).contains(\" ai \")) |\n",
        "    (lower(col(\"TITLE_NAME\")).contains(\"machine learning\")) |\n",
        "    (lower(col(\"TITLE_NAME\")).contains(\"data scientist\")) |\n",
        "    (lower(col(\"TITLE_NAME\")).contains(\"ml engineer\")) |\n",
        "    (lower(col(\"SKILLS_NAME\")).contains(\"machine learning\")) |\n",
        "    (lower(col(\"SKILLS_NAME\")).contains(\"artificial intelligence\")) |\n",
        "    (lower(col(\"SKILLS_NAME\")).contains(\"deep learning\")) |\n",
        "    (lower(col(\"SKILLS_NAME\")).contains(\"neural network\")),\n",
        "    1\n",
        ").otherwise(0)\n",
        ")\n"
      ],
      "execution_count": null,
      "outputs": []
    },
    {
      "cell_type": "code",
      "metadata": {},
      "source": [
        "##Data Cleaning\n",
        "\n",
        "\n",
        "df_clean = df_cleaned.dropna(subset=[\"MIN_YEARS_EXPERIENCE\", \"MAX_YEARS_EXPERIENCE\", \"SALARY_FROM\", \"SALARY_TO\", \"NAICS_2022_6_NAME\", \"TITLE_NAME\"])\n"
      ],
      "execution_count": null,
      "outputs": []
    },
    {
      "cell_type": "code",
      "metadata": {},
      "source": [
        "##AVERAGE SALARY\n",
        "\n",
        "df_clean = df_clean.withColumn(\"AVG_SALARY\", ((col(\"SALARY_FROM\") + col(\"SALARY_TO\")) / 2).cast(DoubleType())\n",
        ")"
      ],
      "execution_count": null,
      "outputs": []
    },
    {
      "cell_type": "code",
      "metadata": {},
      "source": [
        "##Relevant Columns\n",
        "\n",
        "df_casted = df_clean.select(\n",
        "    col(\"TITLE_NAME\"),\n",
        "    col(\"NAICS_2022_6_NAME\"),\n",
        "    col(\"NAICS_2022_6\").cast(DoubleType()),\n",
        "    col(\"MIN_YEARS_EXPERIENCE\").cast(DoubleType()),\n",
        "    col(\"MAX_YEARS_EXPERIENCE\").cast(DoubleType()),\n",
        "    col(\"DURATION\").cast(DoubleType()),\n",
        "    col(\"AVG_SALARY\"),\n",
        "    col(\"AI_OR_NON_AI_ROLES\").cast(DoubleType())\n",
        ").dropna()\n",
        "\n",
        "\n",
        "show(df_casted.toPandas().head())"
      ],
      "execution_count": null,
      "outputs": []
    },
    {
      "cell_type": "code",
      "metadata": {},
      "source": [
        "##Vector Assembler and StringIndexer\n",
        "title_indexer = StringIndexer(inputCol=\"TITLE_NAME\", outputCol=\"TITLE_INDEX\", handleInvalid=\"keep\")\n",
        "industry_indexer = StringIndexer(inputCol=\"NAICS_2022_6_NAME\", outputCol=\"INDUSTRY_INDEX\", handleInvalid=\"keep\")\n",
        "\n",
        "assembler = VectorAssembler(\n",
        "inputCols=[\"TITLE_INDEX\", \"INDUSTRY_INDEX\", \"NAICS_2022_6\", \"AVG_SALARY\", \"MIN_YEARS_EXPERIENCE\", \"MAX_YEARS_EXPERIENCE\", \"DURATION\", \"AI_OR_NON_AI_ROLES\"],\n",
        "outputCol=\"features\"\n",
        ")"
      ],
      "execution_count": null,
      "outputs": []
    },
    {
      "cell_type": "code",
      "metadata": {},
      "source": [
        "##K-means Clustering Model\n",
        "kmeans = KMeans(featuresCol=\"features\", predictionCol=\"cluster\", k=3, seed=1)"
      ],
      "execution_count": null,
      "outputs": []
    },
    {
      "cell_type": "code",
      "metadata": {},
      "source": [
        "pipeline = Pipeline(stages = [title_indexer, industry_indexer, assembler, kmeans])\n",
        "\n",
        "model = pipeline.fit(df_casted)"
      ],
      "execution_count": null,
      "outputs": []
    },
    {
      "cell_type": "code",
      "metadata": {},
      "source": [
        "df_clustered = model.transform(df_casted)\n",
        "evaluator = ClusteringEvaluator(featuresCol=\"features\", predictionCol=\"cluster\")\n",
        "silhouette = evaluator.evaluate(df_clustered)"
      ],
      "execution_count": null,
      "outputs": []
    },
    {
      "cell_type": "code",
      "metadata": {},
      "source": [
        "from pyspark.sql.functions import avg\n",
        "##Cluster Count\n",
        "df_clustered.groupBy(\"cluster\").count().show()\n",
        "\n",
        "##The distribution of AI vs non-AI roles within each cluster.\n",
        "df_clustered.groupBy(\"cluster\", \"AI_OR_NON_AI_ROLES\").count().orderBy(\"cluster\", \"AI_OR_NON_AI_ROLES\").show()\n",
        "\n",
        "##Average salaries between AI and non-AI roles\n",
        "df_clustered.groupBy(\"AI_OR_NON_AI_ROLES\").agg(\n",
        "    avg(\"AVG_SALARY\").alias(\"avg_salary\")\n",
        ").show()\n",
        "\n",
        "##Most common industries for AI and non-AI roles\n",
        "df_clustered.groupBy(\"AI_OR_NON_AI_ROLES\", \"NAICS_2022_6_NAME\").count().orderBy(\"AI_OR_NON_AI_ROLES\", \"count\", ascending=False).show()\n",
        "\n",
        "##Most frequent job titles in AI vs non-AI roles\n",
        "df_clustered.groupBy(\"AI_OR_NON_AI_ROLES\", \"TITLE_NAME\").count().orderBy(\"AI_OR_NON_AI_ROLES\", \"count\", ascending=False).show()"
      ],
      "execution_count": null,
      "outputs": []
    },
    {
      "cell_type": "code",
      "metadata": {},
      "source": [
        "# Interactive EDA: Pairwise Plots with HoloViz\n",
        "import pandas as pd\n",
        "import hvplot.pandas\n",
        "import panel as pn\n",
        "pn.extension()\n",
        "\n",
        "\n",
        "# Use cleaned PDF\n",
        "pdf = df_clustered.select(\n",
        "\"MIN_YEARS_EXPERIENCE\", \"MAX_YEARS_EXPERIENCE\", \"AVG_SALARY\", \"AI_OR_NON_AI_ROLES\",\"DURATION\",\"NAICS_2022_6\", \"TITLE_NAME\"\n",
        ").toPandas()\n",
        "\n",
        "\n",
        "cols = [\"MIN_YEARS_EXPERIENCE\", \"MAX_YEARS_EXPERIENCE\", \"AVG_SALARY\", \"DURATION\", \"NAICS_2022_6\" ]\n",
        "pdf[cols] = pdf[cols].apply(pd.to_numeric, errors='coerce')\n",
        "pdf = pdf.dropna(subset=cols + [\"AI_OR_NON_AI_ROLES\"])\n",
        "\n",
        "plots = []\n",
        "for x in cols:\n",
        "    for y in cols:\n",
        "        if x != y:\n",
        "            plot = pdf.hvplot.scatter(\n",
        "                x=x, y=y, by='AI_OR_NON_AI_ROLES', width=450, height=250, alpha=0.6, title=f\"{y} vs {x}\"\n",
        "            )\n",
        "            plots.append(plot)\n",
        "\n",
        "pn.GridBox(*plots, ncols=2)"
      ],
      "execution_count": null,
      "outputs": []
    },
    {
      "cell_type": "markdown",
      "metadata": {},
      "source": [
        "## Random Forest Classification part 1 - selecting ai vs non ai and observation"
      ]
    },
    {
      "cell_type": "code",
      "metadata": {},
      "source": [
        "import pandas as pd\n",
        "\n",
        "df = pd.read_csv(\"lightcast_job_postings.csv\", low_memory=False)\n",
        "\n",
        "#TITLE_CLEAN is a string\n",
        "df[\"TITLE_CLEAN\"] = df[\"TITLE_CLEAN\"].astype(str)\n",
        "\n",
        "#defining AI-related keywords\n",
        "ai_keywords = [\n",
        "    \"AI\", \"Artificial Intelligence\", \"Machine Learning\", \"Deep Learning\",\n",
        "    \"Neural\", \"Data Scientist\", \"Computer Vision\", \"NLP\", \"Natural Language\",\n",
        "    \"LLM\", \"Chatbot\", \"Generative\", \"Data Engineer\", \"Software\", \"Data\"\n",
        "]\n",
        "\n",
        "#creatung AI_JOB column: 1 = AI job, 0 = Non-AI job\n",
        "df[\"AI_JOB\"] = df[\"TITLE_CLEAN\"].apply(\n",
        "    lambda x: 1 if any(keyword.lower() in x.lower() for keyword in ai_keywords) else 0\n",
        ")\n",
        "\n",
        "#shows how many AI vs Non-AI jobs\n",
        "print(df[\"AI_JOB\"].value_counts())\n",
        "\n",
        "#\n",
        "print(df.groupby(\"AI_JOB\")[\"SALARY\"].describe())\n",
        "\n",
        "df.groupby(\"AI_JOB\")[\"NAICS_2022_6_NAME\"].value_counts().head(10)"
      ],
      "execution_count": null,
      "outputs": []
    },
    {
      "cell_type": "markdown",
      "metadata": {},
      "source": [
        "In this dataset of 72,498 job postings, 30,197 positions (≈42%) were classified as AI-related, while 42,301 (≈58%) were non-AI. Non-AI roles have a slightly higher average salary ($128K vs. $105K for AI roles) and show substantial variation, with salaries ranging from $15K to $500K. Non-AI jobs are concentrated in consulting, administrative, and computer-related services, whereas AI roles are more dispersed across technical and data-focused industries. These patterns highlight differences in compensation and industry focus between AI and non-AI careers.\n",
        "\n",
        "\n",
        "\n",
        "## Random Forest Classification part 2 - features used to determine to predict ai vs non ai job  "
      ]
    },
    {
      "cell_type": "code",
      "metadata": {},
      "source": [
        "from sklearn.model_selection import train_test_split\n",
        "from sklearn.ensemble import RandomForestClassifier\n",
        "from sklearn.metrics import accuracy_score, classification_report\n",
        "\n",
        "features = [\"SOFTWARE_SKILLS\", \"SPECIALIZED_SKILLS\", \"MIN_EDULEVELS\", \"MAX_EDULEVELS\", \"NAICS_2022_6_NAME\", \"MIN_YEARS_EXPERIENCE\", \"MAX_YEARS_EXPERIENCE\", \"SOC_5_NAME\" ]\n",
        "X = df[features].apply(pd.to_numeric, errors='coerce').fillna(0)\n",
        "y = df[\"AI_JOB\"]\n",
        "\n",
        "X_train, X_test, y_train, y_test = train_test_split(X, y, test_size=0.2, random_state=42)\n",
        "\n",
        "rf_clf = RandomForestClassifier(n_estimators=100, random_state=42)\n",
        "rf_clf.fit(X_train, y_train)\n",
        "y_pred = rf_clf.predict(X_test)\n",
        "\n",
        "print(\"Accuracy:\", accuracy_score(y_test, y_pred))\n",
        "print(classification_report(y_test, y_pred))"
      ],
      "execution_count": null,
      "outputs": []
    },
    {
      "cell_type": "markdown",
      "metadata": {},
      "source": [
        "Using a Random Forest classifier to predict AI-related jobs based on skills, education, experience, industry, and job title, the model achieved an overall accuracy of 63%. The classifier performs better at identifying non-AI jobs (recall 0.80) than AI jobs (recall 0.40), indicating it is more likely to misclassify AI roles. Precision and F1-scores reflect this imbalance, with non-AI roles having higher scores than AI roles. These results suggest that while features like education, experience, and industry provide some predictive power, distinguishing AI from non-AI positions remains challenging with the current feature set.\n",
        "\n",
        "## Logistic Regression"
      ]
    },
    {
      "cell_type": "code",
      "metadata": {},
      "source": [
        "from sklearn.linear_model import LogisticRegression\n",
        "from sklearn.metrics import accuracy_score, classification_report\n",
        "\n",
        "# Initialize and train Logistic Regression\n",
        "log_reg = LogisticRegression(max_iter=1000, random_state=42)\n",
        "log_reg.fit(X_train, y_train)\n",
        "\n",
        "# Make predictions\n",
        "y_pred_log = log_reg.predict(X_test)\n",
        "\n",
        "# Evaluate model\n",
        "print(\"Accuracy:\", accuracy_score(y_test, y_pred_log))\n",
        "print(classification_report(y_test, y_pred_log))"
      ],
      "execution_count": null,
      "outputs": []
    },
    {
      "cell_type": "markdown",
      "metadata": {},
      "source": [
        "The Logistic Regression Model has similar results to the RFC because the features are not too strong, leading to such outcomes.\n",
        "\n",
        "\n",
        "## Linear Regression"
      ]
    },
    {
      "cell_type": "code",
      "metadata": {},
      "source": [
        "from sklearn.linear_model import LinearRegression\n",
        "from sklearn.metrics import mean_squared_error, r2_score\n",
        "import pandas as pd\n",
        "from sklearn.model_selection import train_test_split\n",
        "import numpy as np\n",
        "\n",
        "# Features: AI_JOB, MIN_YEARS_EXPERIENCE, MAX_YEARS_EXPERIENCE, MIN_EDULEVELS, MAX_EDULEVELS\n",
        "features = [\"AI_JOB\", \"MIN_YEARS_EXPERIENCE\", \"MAX_YEARS_EXPERIENCE\", \"MIN_EDULEVELS\", \"MAX_EDULEVELS\"]\n",
        "X_salary = df[features].apply(pd.to_numeric, errors='coerce').fillna(0)\n",
        "y_salary = pd.to_numeric(df[\"SALARY\"], errors='coerce').fillna(0)\n",
        "\n",
        "# Train-test split\n",
        "X_train, X_test, y_train, y_test = train_test_split(\n",
        "    X_salary, y_salary, test_size=0.2, random_state=42\n",
        ")\n",
        "\n",
        "# Fit linear regression\n",
        "lr = LinearRegression()\n",
        "lr.fit(X_train, y_train)\n",
        "\n",
        "# Predict\n",
        "y_pred = lr.predict(X_test)\n",
        "\n",
        "# Evaluate\n",
        "r2 = r2_score(y_test, y_pred)\n",
        "rmse = np.sqrt(mean_squared_error(y_test, y_pred))\n",
        "\n",
        "print(\"R² Score:\", r2)\n",
        "print(\"RMSE:\", rmse)\n",
        "\n",
        "# Coefficients\n",
        "coefficients = pd.DataFrame({\n",
        "    \"Feature\": X_salary.columns,\n",
        "    \"Coefficient\": lr.coef_\n",
        "})\n",
        "print(\"\\nCoefficients:\")\n",
        "print(coefficients)\n",
        "\n",
        "print(\"\\nIntercept (base salary):\", lr.intercept_)"
      ],
      "execution_count": null,
      "outputs": []
    },
    {
      "cell_type": "markdown",
      "metadata": {},
      "source": [
        "The Linear regression model examining salary differences between AI and Non-AI roles shows that experience and education are the main drivers of salary, while being an AI role has minimal direct effect. Specifically, each additional year of minimum experience increases salary by ~$3,579, and higher maximum education increases it by ~$3,507, whereas the AI_JOB coefficient is slightly negative (-$889). The model explains about 7.9% of salary variation (R² = 0.079), with an average prediction error of $63,043 (RMSE). The intercept (~$38,466) represents the predicted base salary for a non-AI job with zero experience and base education levels. Overall, salary differences are largely influenced by experience and education rather than AI-role designation."
      ]
    }
  ],
  "metadata": {
    "kernelspec": {
      "name": "venv",
      "language": "python",
      "display_name": "Python (venv)"
    }
  },
  "nbformat": 4,
  "nbformat_minor": 4
}