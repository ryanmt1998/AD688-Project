{
  "cells": [
    {
      "cell_type": "raw",
      "id": "0b178e1d",
      "metadata": {},
      "source": [
        "---\n",
        "title: \"Your Title\"\n",
        "format: html\n",
        "execute:\n",
        "    kernel: venv\n",
        "---"
      ]
    },
    {
      "cell_type": "markdown",
      "id": "0dad4181",
      "metadata": {},
      "source": [
        "## K-Mean Clustering\n"
      ]
    },
    {
      "cell_type": "code",
      "execution_count": null,
      "id": "f0c01e29",
      "metadata": {},
      "outputs": [],
      "source": [
        "from pyspark.sql import SparkSession\n",
        "import pandas as pd\n",
        "from pyspark.sql import functions as F\n",
        "from pyspark.sql.types import StringType\n",
        "from pyspark.ml.feature import StringIndexer, VectorAssembler, StandardScaler\n",
        "from pyspark.ml.clustering import KMeans\n",
        "import matplotlib.pyplot as plt\n",
        "import seaborn as sns"
      ]
    },
    {
      "cell_type": "code",
      "execution_count": null,
      "id": "23fa5029",
      "metadata": {},
      "outputs": [],
      "source": [
        "# Initialize Spark Session\n",
        "spark = SparkSession.builder.appName(\"./data/LightcastData\").getOrCreate()\n",
        "\n",
        "df = spark.read.option(\"header\", \"true\") \\\n",
        "            .option(\"inferSchema\", \"true\") \\\n",
        "            .option(\"multiLine\", \"true\") \\\n",
        "            .option(\"escape\", \"\\\"\") \\\n",
        "            .csv(\"./data/lightcast_job_postings.csv\")"
      ]
    },
    {
      "cell_type": "code",
      "execution_count": null,
      "id": "42f71f56",
      "metadata": {},
      "outputs": [],
      "source": [
        "def label_ai_roles(title):\n",
        "    ai_keyword = [\"AI\", \"artificial intelligence\", \"machine learning\", \"data scientist\", \"deep learning\"]\n",
        "    title_lower = str(title).lower() if title else ''\n",
        "    return \"AI\" if any(keyword in title_lower for keyword in ai_keywords) else \"Non-AI\"\n",
        "\n",
        "label_ai_udf = F.udf(label_ai_roles, StringType())"
      ]
    },
    {
      "cell_type": "code",
      "execution_count": null,
      "id": "8b222dab",
      "metadata": {},
      "outputs": [],
      "source": [
        "df.printSchema()\n"
      ]
    },
    {
      "cell_type": "code",
      "execution_count": null,
      "id": "ca5c25a1",
      "metadata": {},
      "outputs": [],
      "source": [
        "df = df.withColumn('ai_label', label_ai_udf(\"TITLE_RAW\"))\n",
        "\n",
        "df = df.select(\"TITLE_RAW\", \"SALARY\", \"LIGHTCAST_SECTORS\", \"NAICS_2022_6\", \"ai_label\")\n"
      ]
    },
    {
      "cell_type": "code",
      "execution_count": null,
      "id": "d3ce400a",
      "metadata": {},
      "outputs": [],
      "source": [
        "indexers = [\n",
        "    StringIndexer(inputCol=\"TITLE_RAW\", outputCol=\"job_title_enc\", handleInvalid=\"keep\"),\n",
        "    StringIndexer(inputCol=\"LIGHTCAST_SECTORS\", outputCol=\"industry_enc\", handleInvalid=\"keep\"),\n",
        "    StringIndexer(inputCol=\"NAICS_2022_6\", outputCol=\"naics_enc\", handleInvalid=\"keep\"),\n",
        "    StringIndexer(inputCol=\"ai_label\", outputCol=\"ai_enc\", handleInvalid=\"keep\")\n",
        "]"
      ]
    }
  ],
  "metadata": {
    "kernelspec": {
      "display_name": "venv",
      "language": "python",
      "name": "python3"
    },
    "language_info": {
      "name": "python",
      "version": "3.12.3"
    }
  },
  "nbformat": 4,
  "nbformat_minor": 5
}
